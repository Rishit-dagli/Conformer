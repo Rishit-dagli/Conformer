{
 "nbformat": 4,
 "nbformat_minor": 0,
 "metadata": {
  "colab": {
   "name": "conformer-example.ipynb",
   "provenance": [],
   "authorship_tag": "ABX9TyM7dXN69UApQcqmFIiwdh63",
   "include_colab_link": true
  },
  "kernelspec": {
   "name": "python3",
   "display_name": "Python 3"
  },
  "language_info": {
   "name": "python"
  }
 },
 "cells": [
  {
   "cell_type": "markdown",
   "metadata": {
    "id": "view-in-github",
    "colab_type": "text"
   },
   "source": [
    "<a href=\"https://colab.research.google.com/github/Rishit-dagli/Conformer/blob/main/example/conformer_example.ipynb\" target=\"_parent\"><img src=\"https://colab.research.google.com/assets/colab-badge.svg\" alt=\"Open In Colab\"/></a>"
   ]
  },
  {
   "cell_type": "markdown",
   "source": [
    "# Conformer Example\n",
    "\n",
    "This notebook shows the the process of using the [conformer-tf](https://pypi.org/project/conformer-tf/) Python package. This repo implements [Conformer: Convolution-augmented Transformer for Speech Recognition](https://arxiv.org/abs/2005.08100) by Gulati et al. in TensorFlow. _**Conformer**_ achieves the best of both worlds (transformers for content-based global interactions and CNNs to  exploit local features) by studying how to combine convolution neural networks and transformers to model both local and global dependencies of an audio sequence in a parameter-efficient way.\n",
    "\n",
    "If you find this useful please consider giving a ⭐ to [the repo](https://github.com/Rishit-dagli/Conformer). "
   ],
   "metadata": {
    "id": "lwCN6b-WWKJu"
   }
  },
  {
   "cell_type": "markdown",
   "source": [
    "## Install the package"
   ],
   "metadata": {
    "id": "wfK31aQjWdzy"
   }
  },
  {
   "cell_type": "code",
   "execution_count": null,
   "metadata": {
    "id": "dOyZmWyWWCOq"
   },
   "outputs": [],
   "source": [
    "!pip install conformer-tf"
   ]
  },
  {
   "cell_type": "markdown",
   "source": [
    "## Setup"
   ],
   "metadata": {
    "id": "DGJG1iwTWhNH"
   }
  },
  {
   "cell_type": "code",
   "source": [
    "import tensorflow as tf\n",
    "from conformer_tf import ConformerConvModule\n",
    "from conformer_tf import ConformerBlock"
   ],
   "metadata": {
    "id": "jJghBPbMWkPh"
   },
   "execution_count": null,
   "outputs": []
  },
  {
   "cell_type": "markdown",
   "source": [
    "## Create a Convolutional Module"
   ],
   "metadata": {
    "id": "EieWqqdFWxaH"
   }
  },
  {
   "cell_type": "code",
   "source": [
    "layer = ConformerConvModule(\n",
    "    dim=512,\n",
    "    causal=False,  # whether it is auto-regressive\n",
    "    expansion_factor=2,  # what multiple of the dimension to expand for the depthwise convolution\n",
    "    kernel_size=31,\n",
    "    dropout=0.0,\n",
    ")\n",
    "\n",
    "x = tf.random.normal([1, 1024, 512])\n",
    "x = layer(x) + x  # (1, 1024, 512)"
   ],
   "metadata": {
    "id": "D2Nq8WstW1du"
   },
   "execution_count": null,
   "outputs": []
  },
  {
   "cell_type": "code",
   "source": [
    "x.shape"
   ],
   "metadata": {
    "id": "Dsfn8jOrW5Ye"
   },
   "execution_count": null,
   "outputs": []
  },
  {
   "cell_type": "markdown",
   "source": [
    "## Create a Conformer Block"
   ],
   "metadata": {
    "id": "_mLXo2zcW6Pn"
   }
  },
  {
   "cell_type": "code",
   "source": [
    "conformer_block = ConformerBlock(\n",
    "    dim=512,\n",
    "    dim_head=64,\n",
    "    heads=8,\n",
    "    ff_mult=4,\n",
    "    conv_expansion_factor=2,\n",
    "    conv_kernel_size=31,\n",
    "    attn_dropout=0.0,\n",
    "    ff_dropout=0.0,\n",
    "    conv_dropout=0.0,\n",
    ")\n",
    "\n",
    "x = tf.random.normal([1, 1024, 512])\n",
    "conformer_block(x)  # (1, 1024, 512)"
   ],
   "metadata": {
    "id": "5QeHGwiaW_tX"
   },
   "execution_count": null,
   "outputs": []
  }
 ]
}